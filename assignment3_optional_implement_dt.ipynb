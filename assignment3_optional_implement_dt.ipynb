{
 "cells": [
  {
   "cell_type": "markdown",
   "metadata": {},
   "source": [
    "<center>\n",
    "<img src=\"../../img/ods_stickers.jpg\" />\n",
    "    \n",
    "## [mlcourse.ai](https://mlcourse.ai) – Open Machine Learning Course \n",
    "Author: [Yury Kashnitskiy](https://yorko.github.io) (@yorko). Edited by Anna Tarelina (@feuerengel). This material is subject to the terms and conditions of the [Creative Commons CC BY-NC-SA 4.0](https://creativecommons.org/licenses/by-nc-sa/4.0/) license. Free use is permitted for any non-commercial purpose."
   ]
  },
  {
   "cell_type": "markdown",
   "metadata": {},
   "source": [
    "# <center>Assignment #3. Optional part\n",
    "## <center> Implementation of the decision tree algorithm"
   ]
  },
  {
   "cell_type": "markdown",
   "metadata": {},
   "source": [
    "This part is optional and not graded in mlcourse.ai. However, it's very helpful if you'd like to understand how decision trees work. Implementing (or at least describing) parts of tree-learning algorithms is a popular interview question as well :)  "
   ]
  },
  {
   "cell_type": "code",
   "execution_count": 1045,
   "metadata": {
    "ExecuteTime": {
     "end_time": "2019-03-12T01:21:13.409319Z",
     "start_time": "2019-03-12T01:21:13.403645Z"
    }
   },
   "outputs": [],
   "source": [
    "import numpy as np\n",
    "from matplotlib import pyplot as plt\n",
    "from sklearn.base import BaseEstimator\n",
    "from sklearn.datasets import make_classification, make_regression, load_digits, load_boston\n",
    "from sklearn.model_selection import train_test_split, GridSearchCV\n",
    "from sklearn.metrics import accuracy_score, mean_squared_error\n",
    "from sklearn.tree import DecisionTreeClassifier, DecisionTreeRegressor\n",
    "import scipy\n",
    "\n",
    "import seaborn as sns\n",
    "sns.set()"
   ]
  },
  {
   "cell_type": "markdown",
   "metadata": {},
   "source": [
    "Let's fix `random_state` (a.k.a. random seed) beforehand."
   ]
  },
  {
   "cell_type": "code",
   "execution_count": 22,
   "metadata": {
    "ExecuteTime": {
     "end_time": "2019-03-11T17:42:14.184482Z",
     "start_time": "2019-03-11T17:42:14.180860Z"
    }
   },
   "outputs": [],
   "source": [
    "RANDOM_STATE = 17"
   ]
  },
  {
   "cell_type": "markdown",
   "metadata": {
    "collapsed": true
   },
   "source": [
    "**Implement the class `DecisionTree`**\n",
    "**Specification:**\n",
    "- the class is inherited from `sklearn.BaseEstimator`;\n",
    "- class constructor has the following parameters: \n",
    "    `max_depth` - maximum depth of the tree (`numpy.inf` by default); \n",
    "    `min_samples_split` - the minimum number of instances in a node for a splitting to be done (2 by default); \n",
    "    `criterion` - split criterion ('gini' or 'entropy' for classification, 'variance' or 'mad_median' for regression; 'gini' by default);\n",
    "    \n",
    "    A functional to be maximized to find an optimal partition at a given node has the form\n",
    "    $$Q(X, j, t) = F(X) - \\dfrac{|X_l|}{|X|} F(X_l) - \\dfrac{|X_r|}{|X|} F(X_r),$$\n",
    "    where $X$ are samples at a given node, $X_l$ and $X_r$ are partitions of samples $X$ into two parts \n",
    "    with the following condition $[x_j < t]$, and $F(X)$ is a partition criterion.\n",
    "    \n",
    "    For classification: let $p_i$ be the fraction of the instances of the $i$-th class in the dataset $X$.\n",
    "    \n",
    "    'gini': Gini impurity $F(X) = 1 -\\sum_{i = 1}^K p_i^2$.\n",
    "    \n",
    "    'entropy': Entropy $F(X) = -\\sum_{i = 1}^K p_i \\log_2(p_i)$.\n",
    "    \n",
    "    For regression: $y_j = y(x_j)$ - is a target for an instance $x_j$, $y = (y_1, \\dots, y_{|X|})$ - is a target vector.\n",
    "    \n",
    "    'variance': Variance (mean quadratic deviation from average) $F(X) = \\dfrac{1}{|X|} \\sum_{x_j \\in X}(y_j - \\dfrac{1}{|X|}\\sum_{x_i \\in X}y_i)^2$\n",
    "    \n",
    "    'mad_median': Mean deviation from the median $F(X) = \\dfrac{1}{|X|} \\sum_{x_j \\in X}|y_j - \\mathrm{med}(y)|$\n",
    "    \n",
    "- the class has several methods: `fit`, `predict` and `predict_proba`;\n",
    "- the`fit` method takes the matrix of instances `X` and a target vector `y` (`numpy.ndarray` objects) and returns an instance of the class `DecisionTree` representing the decision tree trained on the dataset `(X, y)` according to parameters set in the constructor; \n",
    "- the `predict_proba` method takes the matrix of instances `X` and returns the matrix `P` of a size `X.shape[0] x K`, where `K` is the number of classes and $p_{ij}$ is the probability of an instance in $i$-th row of `X` to belong to class $j \\in \\{1, \\dots, K\\}$.\n",
    "- the `predict` method takes the matrix of instances `X` and returns a prediction vector; in case of classification, prediction for an instance $x_i$ falling into leaf $L$ will be the class, mostly represented among instances in $L$. In case of regression, it'll be the mean value of targets for all instances in leaf $L$."
   ]
  },
  {
   "cell_type": "code",
   "execution_count": 11,
   "metadata": {
    "ExecuteTime": {
     "end_time": "2019-03-22T17:39:18.414451Z",
     "start_time": "2019-03-22T17:39:18.405344Z"
    }
   },
   "outputs": [],
   "source": [
    "def entropy(y):    \n",
    "    y = y.astype(int)\n",
    "    probs = np.bincount(y) / y.size\n",
    "    probs = np.maximum(probs, np.full_like(probs, 1e-50))\n",
    "    \n",
    "    return - np.sum(probs * np.log2(probs))\n",
    "    \n",
    "def gini(y):\n",
    "    y = y.astype(int)\n",
    "    probs = np.bincount(y) / y.size\n",
    "    probs = np.maximum(probs, np.full_like(probs, 1e-50))\n",
    "    \n",
    "    return 1 - np.sum(np.square(probs))\n",
    "\n",
    "def variance(y):\n",
    "    y_mean = y.mean()\n",
    "    return np.sum(np.square(y-y.mean()))/y.size\n",
    "    \n",
    "def mad_median(y):\n",
    "    y_median = np.median(y)\n",
    "    return np.sum(np.abs(y-y_median))/y.size"
   ]
  },
  {
   "cell_type": "code",
   "execution_count": 3,
   "metadata": {
    "ExecuteTime": {
     "end_time": "2019-03-22T17:38:27.986993Z",
     "start_time": "2019-03-22T17:38:27.984678Z"
    }
   },
   "outputs": [],
   "source": [
    "import numpy as np"
   ]
  },
  {
   "cell_type": "code",
   "execution_count": 8,
   "metadata": {
    "ExecuteTime": {
     "end_time": "2019-03-22T17:39:10.953393Z",
     "start_time": "2019-03-22T17:39:10.949043Z"
    }
   },
   "outputs": [],
   "source": [
    "y = np.random.randint(0, 2, 50000)"
   ]
  },
  {
   "cell_type": "code",
   "execution_count": 1031,
   "metadata": {
    "ExecuteTime": {
     "end_time": "2019-03-12T01:15:50.387331Z",
     "start_time": "2019-03-12T01:15:50.382750Z"
    }
   },
   "outputs": [
    {
     "data": {
      "text/plain": [
       "(3.3217753538402386, 0.8999789112442087, 8.205397049246425, 2.4885920979410128)"
      ]
     },
     "execution_count": 1031,
     "metadata": {},
     "output_type": "execute_result"
    }
   ],
   "source": [
    "entropy(y), gini(y), variance(y), mad_median(y)"
   ]
  },
  {
   "cell_type": "markdown",
   "metadata": {},
   "source": [
    "The `Node` class implements a node in the decision tree."
   ]
  },
  {
   "cell_type": "code",
   "execution_count": 325,
   "metadata": {
    "ExecuteTime": {
     "end_time": "2019-03-11T21:46:42.486617Z",
     "start_time": "2019-03-11T21:46:42.482088Z"
    }
   },
   "outputs": [],
   "source": [
    "class Node():\n",
    "    \n",
    "    def __init__(self, feature_idx=None, threshold=None, labels=None, left=None, right=None):\n",
    "        self.feature_idx = feature_idx\n",
    "        self.threshold = threshold\n",
    "        self.labels = labels\n",
    "        self.left = left\n",
    "        self.right = right"
   ]
  },
  {
   "cell_type": "markdown",
   "metadata": {},
   "source": [
    "Let's determine the function for calculating a prediction in a leaf. For regression, let's take the mean for all values in a leaf, for classification - the most popular class in leaf."
   ]
  },
  {
   "cell_type": "code",
   "execution_count": 1101,
   "metadata": {
    "ExecuteTime": {
     "end_time": "2019-03-13T11:45:52.828651Z",
     "start_time": "2019-03-13T11:45:52.679268Z"
    }
   },
   "outputs": [],
   "source": [
    "class DecisionTree(BaseEstimator):\n",
    "    \n",
    "    def __init__(self, max_depth=np.inf, min_samples_split=2, \n",
    "                 criterion='gini', debug=False):\n",
    "      \n",
    "        \n",
    "        self.dic  = {\n",
    "            \"gini\" : gini, \n",
    "            \"entropy\" : entropy, \n",
    "            \"variance\" : variance, \n",
    "            \"mad_median\" : mad_median\n",
    "        }\n",
    "\n",
    "\n",
    "        \n",
    "        self.max_depth = max_depth\n",
    "        self.min_samples_split = min_samples_split\n",
    "        self.criterion = criterion\n",
    "        \n",
    "        self.n_iterations = 0\n",
    "        self.tree_depth = 1 \n",
    "        \n",
    "        # we need to know n classes for predict proba\n",
    "        self.n_classes = None\n",
    "        \n",
    "    def select_optimal_boost(self, X,y):\n",
    "        ls = []\n",
    "        information_gain = 0 \n",
    "        threshold = None\n",
    "        feature_idx = None\n",
    "        starting_entropy = self.criterion(y)\n",
    "        for feature in range(X.shape[1]):\n",
    "            X_0 = X[:, feature ]\n",
    "            # TODO: Leave only non zero ones.\n",
    "            for threshold_candidate in np.sort(np.unique(X_0))[1:-1]:\n",
    "                left = y[X_0>=threshold_candidate]\n",
    "                right = y[X_0<threshold_candidate]\n",
    "                \n",
    "                ig = starting_entropy - left.size/X_0.size * self.criterion(left) - right.size/X_0.size * self.criterion(right)\n",
    "                if ig> information_gain:\n",
    "                    threshold = threshold_candidate\n",
    "                    feature_idx = feature\n",
    "                    information_gain= ig\n",
    "        return information_gain, threshold, feature_idx\n",
    "\n",
    "    def fit(self, X, y):\n",
    "\n",
    "        self.criterion = self.dic[self.criterion]\n",
    "        print(self.criterion)\n",
    "        self.n_classes = np.unique(y).size\n",
    "        self.build_tree(X, y)\n",
    "        return self\n",
    "    \n",
    "    def build_tree(self, X, y, depth_=0):\n",
    "        \n",
    "        t = Node()\n",
    "        \n",
    "        self.n_iterations +=1\n",
    "        \n",
    "#         print(str(self.n_iterations) + '------------------- iteration' + str(depth_))\n",
    "        \n",
    "        if depth_ == self.max_depth:\n",
    "            t.labels = y\n",
    "            return  t\n",
    "        \n",
    "        information_gain, threshold, feature_idx = self.select_optimal_boost(X, y)\n",
    "    \n",
    "        if (information_gain < 1e-3) or (threshold is None) or (feature_idx is None):\n",
    "            t.labels = y \n",
    "#             print('end of the tree')        \n",
    "        else: \n",
    "            #slicing the tree to pass it to the next iteration\n",
    "            X_left = X[X[:, feature_idx]<threshold]\n",
    "            y_left = y[X[:, feature_idx]<threshold]\n",
    "            X_right = X[X[:, feature_idx]>=threshold]\n",
    "            y_right = y[X[:, feature_idx]>=threshold]\n",
    "            \n",
    "            if (y_left.size < self.min_samples_split) or (y_right.size < self.min_samples_split):\n",
    "                t.labels = y\n",
    "                return t\n",
    "            \n",
    "            t.threshold = threshold\n",
    "            t.feature_idx = feature_idx\n",
    "            t.left = self.build_tree(X_left, y_left, depth_+1)\n",
    "            t.right = self.build_tree(X_right, y_right, depth_+1)\n",
    "        \n",
    "        self.fitted_tree = t\n",
    "        return t\n",
    "    \n",
    "    def predict_label(self, X, t, is_label=1): \n",
    "\n",
    "        if (t.left is not None) and (t.right is not None):\n",
    "            if X[t.feature_idx]>=t.threshold:\n",
    "                result = self.predict_label(X, t.right, is_label)\n",
    "            else:\n",
    "                result = self.predict_label(X, t.left, is_label)\n",
    "        elif is_label==1:\n",
    "            if self.criterion in (gini, entropy):\n",
    "                return scipy.stats.mode(t.labels).mode[0]\n",
    "            else:\n",
    "                return t.labels.mean()\n",
    "        else:\n",
    "            if self.criterion in (gini, entropy):\n",
    "                arr_mask = np.bincount(t.labels)/t.labels.size\n",
    "                return np.concatenate([arr_mask, np.zeros(self.n_classes-arr_mask.size)])\n",
    "            else:\n",
    "                raise ValueError('it is a regression. No probas')\n",
    "            \n",
    "        return result\n",
    "\n",
    "    \n",
    "    \n",
    "    def predict(self, X):\n",
    "        if self.fitted_tree is None:\n",
    "            raise ValueError('The tree has not been fitted yet')\n",
    "        ls = []\n",
    "        for sample in X:\n",
    "            label = self.predict_label(sample, self.fitted_tree,is_label=1)\n",
    "            ls.append(label)\n",
    "        return np.array(ls)\n",
    "        \n",
    "    def predict_proba(self, X):\n",
    "        if self.fitted_tree is None:\n",
    "            raise ValueError('The tree has not been fitted yet')\n",
    "        ls = []\n",
    "        for sample in X:\n",
    "            label = self.predict_label(sample, self.fitted_tree, is_label=0)\n",
    "            ls.append(label)\n",
    "        return np.array(ls) \n",
    "    \n",
    "#     def print_tree(t):\n",
    "#         try:\n",
    "#             print(t.labels.shape)\n",
    "#         except:\n",
    "#             pass\n",
    "#         if t.left is not None:\n",
    "#             print_tree(t.left)\n",
    "#         if t.right is not None:\n",
    "#             print_tree(t.right)\n",
    "    "
   ]
  },
  {
   "cell_type": "code",
   "execution_count": 631,
   "metadata": {
    "ExecuteTime": {
     "end_time": "2019-03-11T23:42:09.328613Z",
     "start_time": "2019-03-11T23:42:05.284710Z"
    },
    "collapsed": true
   },
   "outputs": [
    {
     "name": "stdout",
     "output_type": "stream",
     "text": [
      "1------------------- iteration1\n",
      "2------------------- iteration2\n",
      "3------------------- iteration3\n",
      "4------------------- iteration4\n",
      "5------------------- iteration5\n",
      "6------------------- iteration6\n",
      "end of the tree\n",
      "7------------------- iteration6\n",
      "8------------------- iteration7\n",
      "end of the tree\n",
      "9------------------- iteration7\n",
      "10------------------- iteration8\n",
      "end of the tree\n",
      "11------------------- iteration8\n",
      "end of the tree\n",
      "12------------------- iteration5\n",
      "end of the tree\n",
      "13------------------- iteration4\n",
      "14------------------- iteration5\n",
      "end of the tree\n",
      "15------------------- iteration5\n",
      "16------------------- iteration6\n",
      "end of the tree\n",
      "17------------------- iteration6\n",
      "end of the tree\n",
      "18------------------- iteration3\n",
      "19------------------- iteration4\n",
      "20------------------- iteration5\n",
      "21------------------- iteration6\n",
      "end of the tree\n",
      "22------------------- iteration6\n",
      "end of the tree\n",
      "23------------------- iteration5\n",
      "24------------------- iteration6\n",
      "end of the tree\n",
      "25------------------- iteration6\n",
      "end of the tree\n",
      "26------------------- iteration4\n",
      "27------------------- iteration5\n",
      "28------------------- iteration6\n",
      "end of the tree\n",
      "29------------------- iteration6\n",
      "end of the tree\n",
      "30------------------- iteration5\n",
      "31------------------- iteration6\n",
      "end of the tree\n",
      "32------------------- iteration6\n",
      "33------------------- iteration7\n",
      "end of the tree\n",
      "34------------------- iteration7\n",
      "end of the tree\n",
      "35------------------- iteration2\n",
      "36------------------- iteration3\n",
      "37------------------- iteration4\n",
      "38------------------- iteration5\n",
      "39------------------- iteration6\n",
      "40------------------- iteration7\n",
      "41------------------- iteration8\n",
      "42------------------- iteration9\n",
      "end of the tree\n",
      "43------------------- iteration9\n",
      "end of the tree\n",
      "44------------------- iteration8\n",
      "end of the tree\n",
      "45------------------- iteration7\n",
      "46------------------- iteration8\n",
      "47------------------- iteration9\n",
      "48------------------- iteration10\n",
      "end of the tree\n",
      "49------------------- iteration10\n",
      "end of the tree\n",
      "50------------------- iteration9\n",
      "end of the tree\n",
      "51------------------- iteration8\n",
      "52------------------- iteration9\n",
      "53------------------- iteration10\n",
      "end of the tree\n",
      "54------------------- iteration10\n",
      "55------------------- iteration11\n",
      "end of the tree\n",
      "56------------------- iteration11\n",
      "end of the tree\n",
      "57------------------- iteration9\n",
      "end of the tree\n",
      "58------------------- iteration6\n",
      "59------------------- iteration7\n",
      "60------------------- iteration8\n",
      "61------------------- iteration9\n",
      "end of the tree\n",
      "62------------------- iteration9\n",
      "end of the tree\n",
      "63------------------- iteration8\n",
      "end of the tree\n",
      "64------------------- iteration7\n",
      "65------------------- iteration8\n",
      "66------------------- iteration9\n",
      "end of the tree\n",
      "67------------------- iteration9\n",
      "68------------------- iteration10\n",
      "end of the tree\n",
      "69------------------- iteration10\n",
      "end of the tree\n",
      "70------------------- iteration8\n",
      "end of the tree\n",
      "71------------------- iteration5\n",
      "72------------------- iteration6\n",
      "73------------------- iteration7\n",
      "74------------------- iteration8\n",
      "end of the tree\n",
      "75------------------- iteration8\n",
      "end of the tree\n",
      "76------------------- iteration7\n",
      "end of the tree\n",
      "77------------------- iteration6\n",
      "78------------------- iteration7\n",
      "79------------------- iteration8\n",
      "end of the tree\n",
      "80------------------- iteration8\n",
      "end of the tree\n",
      "81------------------- iteration7\n",
      "end of the tree\n",
      "82------------------- iteration4\n",
      "83------------------- iteration5\n",
      "84------------------- iteration6\n",
      "85------------------- iteration7\n",
      "86------------------- iteration8\n",
      "end of the tree\n",
      "87------------------- iteration8\n",
      "end of the tree\n",
      "88------------------- iteration7\n",
      "end of the tree\n",
      "89------------------- iteration6\n",
      "90------------------- iteration7\n",
      "91------------------- iteration8\n",
      "end of the tree\n",
      "92------------------- iteration8\n",
      "end of the tree\n",
      "93------------------- iteration7\n",
      "94------------------- iteration8\n",
      "95------------------- iteration9\n",
      "end of the tree\n",
      "96------------------- iteration9\n",
      "end of the tree\n",
      "97------------------- iteration8\n",
      "98------------------- iteration9\n",
      "end of the tree\n",
      "99------------------- iteration9\n",
      "end of the tree\n",
      "100------------------- iteration5\n",
      "101------------------- iteration6\n",
      "end of the tree\n",
      "102------------------- iteration6\n",
      "end of the tree\n",
      "103------------------- iteration3\n",
      "104------------------- iteration4\n",
      "105------------------- iteration5\n",
      "106------------------- iteration6\n",
      "end of the tree\n",
      "107------------------- iteration6\n",
      "108------------------- iteration7\n",
      "109------------------- iteration8\n",
      "end of the tree\n",
      "110------------------- iteration8\n",
      "111------------------- iteration9\n",
      "end of the tree\n",
      "112------------------- iteration9\n",
      "113------------------- iteration10\n",
      "end of the tree\n",
      "114------------------- iteration10\n",
      "115------------------- iteration11\n",
      "end of the tree\n",
      "116------------------- iteration11\n",
      "end of the tree\n",
      "117------------------- iteration7\n",
      "118------------------- iteration8\n",
      "end of the tree\n",
      "119------------------- iteration8\n",
      "end of the tree\n",
      "120------------------- iteration5\n",
      "121------------------- iteration6\n",
      "122------------------- iteration7\n",
      "123------------------- iteration8\n",
      "124------------------- iteration9\n",
      "125------------------- iteration10\n",
      "end of the tree\n",
      "126------------------- iteration10\n",
      "end of the tree\n",
      "127------------------- iteration9\n",
      "128------------------- iteration10\n",
      "129------------------- iteration11\n",
      "end of the tree\n",
      "130------------------- iteration11\n",
      "end of the tree\n",
      "131------------------- iteration10\n",
      "end of the tree\n",
      "132------------------- iteration8\n",
      "end of the tree\n",
      "133------------------- iteration7\n",
      "134------------------- iteration8\n",
      "135------------------- iteration9\n",
      "136------------------- iteration10\n",
      "end of the tree\n",
      "137------------------- iteration10\n",
      "end of the tree\n",
      "138------------------- iteration9\n",
      "end of the tree\n",
      "139------------------- iteration8\n",
      "140------------------- iteration9\n",
      "end of the tree\n",
      "141------------------- iteration9\n",
      "142------------------- iteration10\n",
      "143------------------- iteration11\n",
      "end of the tree\n",
      "144------------------- iteration11\n",
      "end of the tree\n",
      "145------------------- iteration10\n",
      "146------------------- iteration11\n",
      "end of the tree\n",
      "147------------------- iteration11\n",
      "end of the tree\n",
      "148------------------- iteration6\n",
      "149------------------- iteration7\n",
      "150------------------- iteration8\n",
      "end of the tree\n",
      "151------------------- iteration8\n",
      "152------------------- iteration9\n",
      "end of the tree\n",
      "153------------------- iteration9\n",
      "154------------------- iteration10\n",
      "end of the tree\n",
      "155------------------- iteration10\n",
      "156------------------- iteration11\n",
      "end of the tree\n",
      "157------------------- iteration11\n",
      "end of the tree\n",
      "158------------------- iteration7\n",
      "end of the tree\n",
      "159------------------- iteration4\n",
      "160------------------- iteration5\n",
      "161------------------- iteration6\n",
      "162------------------- iteration7\n",
      "163------------------- iteration8\n",
      "164------------------- iteration9\n",
      "165------------------- iteration10\n",
      "end of the tree\n",
      "166------------------- iteration10\n",
      "167------------------- iteration11\n",
      "168------------------- iteration12\n",
      "169------------------- iteration13\n",
      "end of the tree\n",
      "170------------------- iteration13\n",
      "end of the tree\n",
      "171------------------- iteration12\n",
      "end of the tree\n",
      "172------------------- iteration11\n",
      "173------------------- iteration12\n",
      "end of the tree\n",
      "174------------------- iteration12\n",
      "end of the tree\n",
      "175------------------- iteration9\n",
      "176------------------- iteration10\n",
      "177------------------- iteration11\n",
      "end of the tree\n",
      "178------------------- iteration11\n",
      "end of the tree\n",
      "179------------------- iteration10\n",
      "end of the tree\n",
      "180------------------- iteration8\n",
      "181------------------- iteration9\n",
      "182------------------- iteration10\n",
      "end of the tree\n",
      "183------------------- iteration10\n",
      "184------------------- iteration11\n",
      "end of the tree\n",
      "185------------------- iteration11\n",
      "end of the tree\n",
      "186------------------- iteration9\n",
      "end of the tree\n",
      "187------------------- iteration7\n",
      "188------------------- iteration8\n",
      "189------------------- iteration9\n",
      "end of the tree\n",
      "190------------------- iteration9\n",
      "191------------------- iteration10\n",
      "192------------------- iteration11\n",
      "193------------------- iteration12\n",
      "end of the tree\n",
      "194------------------- iteration12\n",
      "195------------------- iteration13\n",
      "end of the tree\n",
      "196------------------- iteration13\n",
      "end of the tree\n",
      "197------------------- iteration11\n",
      "end of the tree\n",
      "198------------------- iteration10\n",
      "199------------------- iteration11\n",
      "end of the tree\n",
      "200------------------- iteration11\n",
      "end of the tree\n",
      "201------------------- iteration8\n",
      "202------------------- iteration9\n",
      "end of the tree\n",
      "203------------------- iteration9\n",
      "204------------------- iteration10\n",
      "205------------------- iteration11\n",
      "end of the tree\n",
      "206------------------- iteration11\n",
      "207------------------- iteration12\n",
      "end of the tree\n",
      "208------------------- iteration12\n",
      "end of the tree\n",
      "209------------------- iteration10\n",
      "210------------------- iteration11\n",
      "end of the tree\n",
      "211------------------- iteration11\n",
      "end of the tree\n",
      "212------------------- iteration6\n"
     ]
    },
    {
     "name": "stdout",
     "output_type": "stream",
     "text": [
      "213------------------- iteration7\n",
      "214------------------- iteration8\n",
      "215------------------- iteration9\n",
      "216------------------- iteration10\n",
      "end of the tree\n",
      "217------------------- iteration10\n",
      "218------------------- iteration11\n",
      "219------------------- iteration12\n",
      "end of the tree\n",
      "220------------------- iteration12\n",
      "end of the tree\n",
      "221------------------- iteration11\n",
      "end of the tree\n",
      "222------------------- iteration9\n",
      "223------------------- iteration10\n",
      "end of the tree\n",
      "224------------------- iteration10\n",
      "end of the tree\n",
      "225------------------- iteration8\n",
      "226------------------- iteration9\n",
      "227------------------- iteration10\n",
      "end of the tree\n",
      "228------------------- iteration10\n",
      "end of the tree\n",
      "229------------------- iteration9\n",
      "230------------------- iteration10\n",
      "end of the tree\n",
      "231------------------- iteration10\n",
      "232------------------- iteration11\n",
      "end of the tree\n",
      "233------------------- iteration11\n",
      "234------------------- iteration12\n",
      "end of the tree\n",
      "235------------------- iteration12\n",
      "236------------------- iteration13\n",
      "end of the tree\n",
      "237------------------- iteration13\n",
      "end of the tree\n",
      "238------------------- iteration7\n",
      "239------------------- iteration8\n",
      "240------------------- iteration9\n",
      "241------------------- iteration10\n",
      "242------------------- iteration11\n",
      "end of the tree\n",
      "243------------------- iteration11\n",
      "244------------------- iteration12\n",
      "end of the tree\n",
      "245------------------- iteration12\n",
      "246------------------- iteration13\n",
      "end of the tree\n",
      "247------------------- iteration13\n",
      "end of the tree\n",
      "248------------------- iteration10\n",
      "249------------------- iteration11\n",
      "end of the tree\n",
      "250------------------- iteration11\n",
      "end of the tree\n",
      "251------------------- iteration9\n",
      "252------------------- iteration10\n",
      "253------------------- iteration11\n",
      "254------------------- iteration12\n",
      "end of the tree\n",
      "255------------------- iteration12\n",
      "end of the tree\n",
      "256------------------- iteration11\n",
      "257------------------- iteration12\n",
      "258------------------- iteration13\n",
      "259------------------- iteration14\n",
      "end of the tree\n",
      "260------------------- iteration14\n",
      "end of the tree\n",
      "261------------------- iteration13\n",
      "end of the tree\n",
      "262------------------- iteration12\n",
      "263------------------- iteration13\n",
      "end of the tree\n",
      "264------------------- iteration13\n",
      "265------------------- iteration14\n",
      "266------------------- iteration15\n",
      "end of the tree\n",
      "267------------------- iteration15\n",
      "end of the tree\n",
      "268------------------- iteration14\n",
      "269------------------- iteration15\n",
      "270------------------- iteration16\n",
      "end of the tree\n",
      "271------------------- iteration16\n",
      "end of the tree\n",
      "272------------------- iteration15\n",
      "end of the tree\n",
      "273------------------- iteration10\n",
      "274------------------- iteration11\n",
      "275------------------- iteration12\n",
      "276------------------- iteration13\n",
      "end of the tree\n",
      "277------------------- iteration13\n",
      "end of the tree\n",
      "278------------------- iteration12\n",
      "end of the tree\n",
      "279------------------- iteration11\n",
      "end of the tree\n",
      "280------------------- iteration8\n",
      "281------------------- iteration9\n",
      "282------------------- iteration10\n",
      "283------------------- iteration11\n",
      "end of the tree\n",
      "284------------------- iteration11\n",
      "end of the tree\n",
      "285------------------- iteration10\n",
      "end of the tree\n",
      "286------------------- iteration9\n",
      "287------------------- iteration10\n",
      "288------------------- iteration11\n",
      "289------------------- iteration12\n",
      "290------------------- iteration13\n",
      "end of the tree\n",
      "291------------------- iteration13\n",
      "end of the tree\n",
      "292------------------- iteration12\n",
      "end of the tree\n",
      "293------------------- iteration11\n",
      "294------------------- iteration12\n",
      "295------------------- iteration13\n",
      "end of the tree\n",
      "296------------------- iteration13\n",
      "297------------------- iteration14\n",
      "end of the tree\n",
      "298------------------- iteration14\n",
      "299------------------- iteration15\n",
      "300------------------- iteration16\n",
      "end of the tree\n",
      "301------------------- iteration16\n",
      "end of the tree\n",
      "302------------------- iteration15\n",
      "end of the tree\n",
      "303------------------- iteration12\n",
      "end of the tree\n",
      "304------------------- iteration10\n",
      "305------------------- iteration11\n",
      "end of the tree\n",
      "306------------------- iteration11\n",
      "end of the tree\n",
      "307------------------- iteration5\n",
      "308------------------- iteration6\n",
      "309------------------- iteration7\n",
      "310------------------- iteration8\n",
      "311------------------- iteration9\n",
      "end of the tree\n",
      "312------------------- iteration9\n",
      "end of the tree\n",
      "313------------------- iteration8\n",
      "end of the tree\n",
      "314------------------- iteration7\n",
      "315------------------- iteration8\n",
      "end of the tree\n",
      "316------------------- iteration8\n",
      "end of the tree\n",
      "317------------------- iteration6\n",
      "318------------------- iteration7\n",
      "319------------------- iteration8\n",
      "320------------------- iteration9\n",
      "321------------------- iteration10\n",
      "end of the tree\n",
      "322------------------- iteration10\n",
      "end of the tree\n",
      "323------------------- iteration9\n",
      "end of the tree\n",
      "324------------------- iteration8\n",
      "325------------------- iteration9\n",
      "end of the tree\n",
      "326------------------- iteration9\n",
      "327------------------- iteration10\n",
      "328------------------- iteration11\n",
      "329------------------- iteration12\n",
      "end of the tree\n",
      "330------------------- iteration12\n",
      "331------------------- iteration13\n",
      "end of the tree\n",
      "332------------------- iteration13\n",
      "end of the tree\n",
      "333------------------- iteration11\n",
      "end of the tree\n",
      "334------------------- iteration10\n",
      "end of the tree\n",
      "335------------------- iteration7\n",
      "336------------------- iteration8\n",
      "end of the tree\n",
      "337------------------- iteration8\n",
      "end of the tree\n"
     ]
    }
   ],
   "source": [
    "dt = DecisionTree(max_depth=500, min_samples_split=1)\n",
    "tr = dt.fit(X, y)\n",
    "y_pred = dt.predict(X)"
   ]
  },
  {
   "cell_type": "markdown",
   "metadata": {},
   "source": [
    "## Testing the implemented algorithm"
   ]
  },
  {
   "cell_type": "markdown",
   "metadata": {},
   "source": [
    "### Classification"
   ]
  },
  {
   "cell_type": "markdown",
   "metadata": {},
   "source": [
    "Download the dataset `digits` using the method `load_digits`. Split the data into train and test with the `train_test_split` method, use parameter values `test_size=0.2`, and `random_state=17`. Try to train shallow decision trees and make sure that gini and entropy criteria return different results."
   ]
  },
  {
   "cell_type": "code",
   "execution_count": 1102,
   "metadata": {
    "ExecuteTime": {
     "end_time": "2019-03-13T11:45:54.769273Z",
     "start_time": "2019-03-13T11:45:54.361092Z"
    }
   },
   "outputs": [],
   "source": [
    "X, y = load_digits(n_class=10)[\"data\"], load_digits(n_class=10)[\"target\"]\n",
    "\n",
    "X_train,X_test, y_train, y_test =   train_test_split(X, y, test_size=0.2, random_state=17)"
   ]
  },
  {
   "cell_type": "code",
   "execution_count": 696,
   "metadata": {
    "ExecuteTime": {
     "end_time": "2019-03-11T23:57:51.589855Z",
     "start_time": "2019-03-11T23:57:18.658853Z"
    }
   },
   "outputs": [
    {
     "name": "stderr",
     "output_type": "stream",
     "text": [
      "100%|██████████| 13/13 [00:15<00:00,  1.84s/it]\n",
      "100%|██████████| 13/13 [00:16<00:00,  1.87s/it]\n"
     ]
    }
   ],
   "source": [
    "ls = []\n",
    "for criterion in ('gini', 'entropy'):\n",
    "    for max_depth in tqdm(range(2, 15)):\n",
    "        dt = DecisionTree(max_depth=max_depth,\n",
    "                          criterion=criterion)\n",
    "        \n",
    "        dt.fit(X_train, y_train)\n",
    "\n",
    "        y_train_pred = dt.predict(X_train)\n",
    "        acc_train  = accuracy_score(y_train, y_train_pred)\n",
    "\n",
    "        y_test_pred = dt.predict(X_test)\n",
    "        acc_test  = accuracy_score(y_test, y_test_pred)\n",
    "\n",
    "        dic = {\n",
    "            \"criterion\" : criterion, \n",
    "            \"max_depth\" : max_depth, \n",
    "            \"acc_train\" : acc_train, \n",
    "            \"acc_test\" : acc_test\n",
    "        }\n",
    "        ls.append(dic)\n",
    "        \n"
   ]
  },
  {
   "cell_type": "code",
   "execution_count": 697,
   "metadata": {
    "ExecuteTime": {
     "end_time": "2019-03-11T23:57:52.032957Z",
     "start_time": "2019-03-11T23:57:51.592701Z"
    }
   },
   "outputs": [
    {
     "data": {
      "text/plain": [
       "<matplotlib.legend.Legend at 0x1a2d9a35f8>"
      ]
     },
     "execution_count": 697,
     "metadata": {},
     "output_type": "execute_result"
    },
    {
     "data": {
      "image/png": "[encoded data removed]",
      "text/plain": [
       "<Figure size 1296x504 with 1 Axes>"
      ]
     },
     "metadata": {},
     "output_type": "display_data"
    }
   ],
   "source": [
    "df = pd.DataFrame(ls)\n",
    "plt.figure(figsize=(18,7))\n",
    "\n",
    "for criterion in ('gini', 'entropy'):\n",
    "    df1 = df[df.criterion==criterion]\n",
    "    ax = sns.lineplot(df1['max_depth'], df1[\"acc_test\"], label='acc_test {0}'.format(criterion), marker='+')        \n",
    "    sns.lineplot(df1['max_depth'], df1[\"acc_train\"], label='acc_train {0}'.format(criterion), marker='+', alpha=0.4)\n",
    "\n",
    "    \n",
    "plt.legend()"
   ]
  },
  {
   "cell_type": "markdown",
   "metadata": {},
   "source": [
    "Using 5-folds cross-validation (`GridSearchCV`) pick up the optimal values of the `max_depth` and `criterion` parameters. For the parameter `max_depth` use range(3, 11), for criterion use {'gini', 'entropy'}. Quality measure is `scoring`='accuracy'."
   ]
  },
  {
   "cell_type": "code",
   "execution_count": 1103,
   "metadata": {
    "ExecuteTime": {
     "end_time": "2019-03-13T11:46:44.361797Z",
     "start_time": "2019-03-13T11:45:59.717034Z"
    },
    "scrolled": true
   },
   "outputs": [
    {
     "name": "stderr",
     "output_type": "stream",
     "text": [
      "/anaconda3/lib/python3.7/site-packages/sklearn/model_selection/_split.py:2053: FutureWarning: You should specify a value for 'cv' instead of relying on the default value. The default value will change from 3 to 5 in version 0.22.\n",
      "  warnings.warn(CV_WARNING, FutureWarning)\n",
      "[Parallel(n_jobs=1)]: Using backend SequentialBackend with 1 concurrent workers.\n"
     ]
    },
    {
     "name": "stdout",
     "output_type": "stream",
     "text": [
      "Fitting 3 folds for each of 16 candidates, totalling 48 fits\n",
      "[CV] criterion=gini, max_depth=3 .....................................\n",
      "<function gini at 0x1a32e10400>\n",
      "[CV] ...................... criterion=gini, max_depth=3, total=   0.4s\n",
      "[CV] criterion=gini, max_depth=3 .....................................\n",
      "<function gini at 0x1a32e10400>\n"
     ]
    },
    {
     "name": "stderr",
     "output_type": "stream",
     "text": [
      "[Parallel(n_jobs=1)]: Done   1 out of   1 | elapsed:    0.6s remaining:    0.0s\n"
     ]
    },
    {
     "name": "stdout",
     "output_type": "stream",
     "text": [
      "[CV] ...................... criterion=gini, max_depth=3, total=   0.3s\n",
      "[CV] criterion=gini, max_depth=3 .....................................\n",
      "<function gini at 0x1a32e10400>\n",
      "[CV] ...................... criterion=gini, max_depth=3, total=   0.3s\n",
      "[CV] criterion=gini, max_depth=4 .....................................\n",
      "<function gini at 0x1a32e10400>\n",
      "[CV] ...................... criterion=gini, max_depth=4, total=   0.4s\n",
      "[CV] criterion=gini, max_depth=4 .....................................\n",
      "<function gini at 0x1a32e10400>\n",
      "[CV] ...................... criterion=gini, max_depth=4, total=   0.4s\n",
      "[CV] criterion=gini, max_depth=4 .....................................\n",
      "<function gini at 0x1a32e10400>\n",
      "[CV] ...................... criterion=gini, max_depth=4, total=   0.4s\n",
      "[CV] criterion=gini, max_depth=5 .....................................\n",
      "<function gini at 0x1a32e10400>\n",
      "[CV] ...................... criterion=gini, max_depth=5, total=   0.6s\n",
      "[CV] criterion=gini, max_depth=5 .....................................\n",
      "<function gini at 0x1a32e10400>\n",
      "[CV] ...................... criterion=gini, max_depth=5, total=   0.5s\n",
      "[CV] criterion=gini, max_depth=5 .....................................\n",
      "<function gini at 0x1a32e10400>\n",
      "[CV] ...................... criterion=gini, max_depth=5, total=   0.5s\n",
      "[CV] criterion=gini, max_depth=6 .....................................\n",
      "<function gini at 0x1a32e10400>\n",
      "[CV] ...................... criterion=gini, max_depth=6, total=   0.7s\n",
      "[CV] criterion=gini, max_depth=6 .....................................\n",
      "<function gini at 0x1a32e10400>\n",
      "[CV] ...................... criterion=gini, max_depth=6, total=   0.7s\n",
      "[CV] criterion=gini, max_depth=6 .....................................\n",
      "<function gini at 0x1a32e10400>\n",
      "[CV] ...................... criterion=gini, max_depth=6, total=   0.8s\n",
      "[CV] criterion=gini, max_depth=7 .....................................\n",
      "<function gini at 0x1a32e10400>\n",
      "[CV] ...................... criterion=gini, max_depth=7, total=   0.8s\n",
      "[CV] criterion=gini, max_depth=7 .....................................\n",
      "<function gini at 0x1a32e10400>\n",
      "[CV] ...................... criterion=gini, max_depth=7, total=   0.9s\n",
      "[CV] criterion=gini, max_depth=7 .....................................\n",
      "<function gini at 0x1a32e10400>\n",
      "[CV] ...................... criterion=gini, max_depth=7, total=   1.0s\n",
      "[CV] criterion=gini, max_depth=8 .....................................\n",
      "<function gini at 0x1a32e10400>\n",
      "[CV] ...................... criterion=gini, max_depth=8, total=   1.0s\n",
      "[CV] criterion=gini, max_depth=8 .....................................\n",
      "<function gini at 0x1a32e10400>\n",
      "[CV] ...................... criterion=gini, max_depth=8, total=   1.0s\n",
      "[CV] criterion=gini, max_depth=8 .....................................\n",
      "<function gini at 0x1a32e10400>\n",
      "[CV] ...................... criterion=gini, max_depth=8, total=   1.2s\n",
      "[CV] criterion=gini, max_depth=9 .....................................\n",
      "<function gini at 0x1a32e10400>\n",
      "[CV] ...................... criterion=gini, max_depth=9, total=   1.1s\n",
      "[CV] criterion=gini, max_depth=9 .....................................\n",
      "<function gini at 0x1a32e10400>\n",
      "[CV] ...................... criterion=gini, max_depth=9, total=   1.1s\n",
      "[CV] criterion=gini, max_depth=9 .....................................\n",
      "<function gini at 0x1a32e10400>\n",
      "[CV] ...................... criterion=gini, max_depth=9, total=   1.2s\n",
      "[CV] criterion=gini, max_depth=10 ....................................\n",
      "<function gini at 0x1a32e10400>\n",
      "[CV] ..................... criterion=gini, max_depth=10, total=   1.1s\n",
      "[CV] criterion=gini, max_depth=10 ....................................\n",
      "<function gini at 0x1a32e10400>\n",
      "[CV] ..................... criterion=gini, max_depth=10, total=   1.2s\n",
      "[CV] criterion=gini, max_depth=10 ....................................\n",
      "<function gini at 0x1a32e10400>\n",
      "[CV] ..................... criterion=gini, max_depth=10, total=   1.4s\n",
      "[CV] criterion=entropy, max_depth=3 ..................................\n",
      "<function entropy at 0x1a335e01e0>\n",
      "[CV] ................... criterion=entropy, max_depth=3, total=   0.3s\n",
      "[CV] criterion=entropy, max_depth=3 ..................................\n",
      "<function entropy at 0x1a335e01e0>\n",
      "[CV] ................... criterion=entropy, max_depth=3, total=   0.3s\n",
      "[CV] criterion=entropy, max_depth=3 ..................................\n",
      "<function entropy at 0x1a335e01e0>\n",
      "[CV] ................... criterion=entropy, max_depth=3, total=   0.3s\n",
      "[CV] criterion=entropy, max_depth=4 ..................................\n",
      "<function entropy at 0x1a335e01e0>\n",
      "[CV] ................... criterion=entropy, max_depth=4, total=   0.4s\n",
      "[CV] criterion=entropy, max_depth=4 ..................................\n",
      "<function entropy at 0x1a335e01e0>\n",
      "[CV] ................... criterion=entropy, max_depth=4, total=   0.4s\n",
      "[CV] criterion=entropy, max_depth=4 ..................................\n",
      "<function entropy at 0x1a335e01e0>\n",
      "[CV] ................... criterion=entropy, max_depth=4, total=   0.4s\n",
      "[CV] criterion=entropy, max_depth=5 ..................................\n",
      "<function entropy at 0x1a335e01e0>\n",
      "[CV] ................... criterion=entropy, max_depth=5, total=   0.5s\n",
      "[CV] criterion=entropy, max_depth=5 ..................................\n",
      "<function entropy at 0x1a335e01e0>\n",
      "[CV] ................... criterion=entropy, max_depth=5, total=   0.6s\n",
      "[CV] criterion=entropy, max_depth=5 ..................................\n",
      "<function entropy at 0x1a335e01e0>\n",
      "[CV] ................... criterion=entropy, max_depth=5, total=   0.6s\n",
      "[CV] criterion=entropy, max_depth=6 ..................................\n",
      "<function entropy at 0x1a335e01e0>\n",
      "[CV] ................... criterion=entropy, max_depth=6, total=   0.7s\n",
      "[CV] criterion=entropy, max_depth=6 ..................................\n",
      "<function entropy at 0x1a335e01e0>\n",
      "[CV] ................... criterion=entropy, max_depth=6, total=   0.8s\n",
      "[CV] criterion=entropy, max_depth=6 ..................................\n",
      "<function entropy at 0x1a335e01e0>\n",
      "[CV] ................... criterion=entropy, max_depth=6, total=   0.7s\n",
      "[CV] criterion=entropy, max_depth=7 ..................................\n",
      "<function entropy at 0x1a335e01e0>\n",
      "[CV] ................... criterion=entropy, max_depth=7, total=   0.9s\n",
      "[CV] criterion=entropy, max_depth=7 ..................................\n",
      "<function entropy at 0x1a335e01e0>\n",
      "[CV] ................... criterion=entropy, max_depth=7, total=   1.0s\n",
      "[CV] criterion=entropy, max_depth=7 ..................................\n",
      "<function entropy at 0x1a335e01e0>\n",
      "[CV] ................... criterion=entropy, max_depth=7, total=   1.0s\n",
      "[CV] criterion=entropy, max_depth=8 ..................................\n",
      "<function entropy at 0x1a335e01e0>\n",
      "[CV] ................... criterion=entropy, max_depth=8, total=   1.1s\n",
      "[CV] criterion=entropy, max_depth=8 ..................................\n",
      "<function entropy at 0x1a335e01e0>\n",
      "[CV] ................... criterion=entropy, max_depth=8, total=   1.1s\n",
      "[CV] criterion=entropy, max_depth=8 ..................................\n",
      "<function entropy at 0x1a335e01e0>\n",
      "[CV] ................... criterion=entropy, max_depth=8, total=   1.2s\n",
      "[CV] criterion=entropy, max_depth=9 ..................................\n",
      "<function entropy at 0x1a335e01e0>\n",
      "[CV] ................... criterion=entropy, max_depth=9, total=   1.2s\n",
      "[CV] criterion=entropy, max_depth=9 ..................................\n",
      "<function entropy at 0x1a335e01e0>\n",
      "[CV] ................... criterion=entropy, max_depth=9, total=   1.2s\n",
      "[CV] criterion=entropy, max_depth=9 ..................................\n",
      "<function entropy at 0x1a335e01e0>\n",
      "[CV] ................... criterion=entropy, max_depth=9, total=   1.2s\n",
      "[CV] criterion=entropy, max_depth=10 .................................\n",
      "<function entropy at 0x1a335e01e0>\n",
      "[CV] .................. criterion=entropy, max_depth=10, total=   1.1s\n",
      "[CV] criterion=entropy, max_depth=10 .................................\n",
      "<function entropy at 0x1a335e01e0>\n",
      "[CV] .................. criterion=entropy, max_depth=10, total=   1.2s\n",
      "[CV] criterion=entropy, max_depth=10 .................................\n",
      "<function entropy at 0x1a335e01e0>\n",
      "[CV] .................. criterion=entropy, max_depth=10, total=   1.3s\n",
      "<function gini at 0x1a32e10400>\n"
     ]
    },
    {
     "name": "stderr",
     "output_type": "stream",
     "text": [
      "[Parallel(n_jobs=1)]: Done  48 out of  48 | elapsed:   43.0s finished\n"
     ]
    },
    {
     "data": {
      "text/plain": [
       "GridSearchCV(cv='warn', error_score='raise-deprecating',\n",
       "       estimator=DecisionTree(criterion='gini', debug=None, max_depth=inf, min_samples_split=2),\n",
       "       fit_params=None, iid='warn', n_jobs=None,\n",
       "       param_grid={'max_depth': range(3, 11), 'criterion': ['gini', 'entropy']},\n",
       "       pre_dispatch='2*n_jobs', refit=True, return_train_score='warn',\n",
       "       scoring='accuracy', verbose=2)"
      ]
     },
     "execution_count": 1103,
     "metadata": {},
     "output_type": "execute_result"
    }
   ],
   "source": [
    "param_grid = {\n",
    "    \"max_depth\" : range(3, 11), \n",
    "    \"criterion\" : [\"gini\", 'entropy']\n",
    "}\n",
    "gridSearch = GridSearchCV(DecisionTree(),param_grid, scoring='accuracy', verbose=2)\n",
    "gridSearch.fit(X, y)"
   ]
  },
  {
   "cell_type": "code",
   "execution_count": 1105,
   "metadata": {
    "ExecuteTime": {
     "end_time": "2019-03-13T11:46:49.138989Z",
     "start_time": "2019-03-13T11:46:49.132896Z"
    }
   },
   "outputs": [
    {
     "data": {
      "text/plain": [
       "({'criterion': 'gini', 'max_depth': 10}, 0.7807456872565387)"
      ]
     },
     "execution_count": 1105,
     "metadata": {},
     "output_type": "execute_result"
    }
   ],
   "source": [
    "gridSearch.best_params_, gridSearch.best_score_"
   ]
  },
  {
   "cell_type": "code",
   "execution_count": 1106,
   "metadata": {
    "ExecuteTime": {
     "end_time": "2019-03-13T11:46:52.087292Z",
     "start_time": "2019-03-13T11:46:51.404221Z"
    }
   },
   "outputs": [
    {
     "data": {
      "text/plain": [
       "<matplotlib.legend.Legend at 0x1a2ced74e0>"
      ]
     },
     "execution_count": 1106,
     "metadata": {},
     "output_type": "execute_result"
    },
    {
     "data": {
      "image/png": "[encoded data removed]",
      "text/plain": [
       "<Figure size 1296x504 with 1 Axes>"
      ]
     },
     "metadata": {},
     "output_type": "display_data"
    }
   ],
   "source": [
    "indexes = pd.DataFrame(gridSearch.cv_results_[\"params\"])\n",
    "indexes = pd.concat([indexes, pd.Series(gridSearch.cv_results_[\"mean_test_score\"])], axis=1)\n",
    "\n",
    "plt.figure(figsize=(18,7))\n",
    "\n",
    "for criterion in ('gini', 'entropy'):\n",
    "    df1 = indexes[indexes.criterion==criterion]\n",
    "    ax = sns.lineplot(df1['max_depth'], df1[0], label='acc_test {0}'.format(criterion), marker='+')        \n",
    "plt.legend()"
   ]
  },
  {
   "cell_type": "code",
   "execution_count": 1108,
   "metadata": {
    "ExecuteTime": {
     "end_time": "2019-03-13T11:47:37.590760Z",
     "start_time": "2019-03-13T11:47:37.579466Z"
    }
   },
   "outputs": [
    {
     "data": {
      "text/html": [
       "<div>\n",
       "<style scoped>\n",
       "    .dataframe tbody tr th:only-of-type {\n",
       "        vertical-align: middle;\n",
       "    }\n",
       "\n",
       "    .dataframe tbody tr th {\n",
       "        vertical-align: top;\n",
       "    }\n",
       "\n",
       "    .dataframe thead th {\n",
       "        text-align: right;\n",
       "    }\n",
       "</style>\n",
       "<table border=\"1\" class=\"dataframe\">\n",
       "  <thead>\n",
       "    <tr style=\"text-align: right;\">\n",
       "      <th></th>\n",
       "      <th>criterion</th>\n",
       "      <th>max_depth</th>\n",
       "      <th>0</th>\n",
       "    </tr>\n",
       "  </thead>\n",
       "  <tbody>\n",
       "    <tr>\n",
       "      <th>7</th>\n",
       "      <td>gini</td>\n",
       "      <td>10</td>\n",
       "      <td>0.780746</td>\n",
       "    </tr>\n",
       "    <tr>\n",
       "      <th>6</th>\n",
       "      <td>gini</td>\n",
       "      <td>9</td>\n",
       "      <td>0.780189</td>\n",
       "    </tr>\n",
       "    <tr>\n",
       "      <th>5</th>\n",
       "      <td>gini</td>\n",
       "      <td>8</td>\n",
       "      <td>0.774624</td>\n",
       "    </tr>\n",
       "    <tr>\n",
       "      <th>4</th>\n",
       "      <td>gini</td>\n",
       "      <td>7</td>\n",
       "      <td>0.760156</td>\n",
       "    </tr>\n",
       "    <tr>\n",
       "      <th>3</th>\n",
       "      <td>gini</td>\n",
       "      <td>6</td>\n",
       "      <td>0.737896</td>\n",
       "    </tr>\n",
       "    <tr>\n",
       "      <th>2</th>\n",
       "      <td>gini</td>\n",
       "      <td>5</td>\n",
       "      <td>0.661658</td>\n",
       "    </tr>\n",
       "    <tr>\n",
       "      <th>1</th>\n",
       "      <td>gini</td>\n",
       "      <td>4</td>\n",
       "      <td>0.562604</td>\n",
       "    </tr>\n",
       "    <tr>\n",
       "      <th>0</th>\n",
       "      <td>gini</td>\n",
       "      <td>3</td>\n",
       "      <td>0.441291</td>\n",
       "    </tr>\n",
       "    <tr>\n",
       "      <th>14</th>\n",
       "      <td>entropy</td>\n",
       "      <td>9</td>\n",
       "      <td>0.774068</td>\n",
       "    </tr>\n",
       "    <tr>\n",
       "      <th>15</th>\n",
       "      <td>entropy</td>\n",
       "      <td>10</td>\n",
       "      <td>0.771285</td>\n",
       "    </tr>\n",
       "    <tr>\n",
       "      <th>13</th>\n",
       "      <td>entropy</td>\n",
       "      <td>8</td>\n",
       "      <td>0.769060</td>\n",
       "    </tr>\n",
       "    <tr>\n",
       "      <th>12</th>\n",
       "      <td>entropy</td>\n",
       "      <td>7</td>\n",
       "      <td>0.762382</td>\n",
       "    </tr>\n",
       "    <tr>\n",
       "      <th>11</th>\n",
       "      <td>entropy</td>\n",
       "      <td>6</td>\n",
       "      <td>0.752922</td>\n",
       "    </tr>\n",
       "    <tr>\n",
       "      <th>10</th>\n",
       "      <td>entropy</td>\n",
       "      <td>5</td>\n",
       "      <td>0.718976</td>\n",
       "    </tr>\n",
       "    <tr>\n",
       "      <th>9</th>\n",
       "      <td>entropy</td>\n",
       "      <td>4</td>\n",
       "      <td>0.658876</td>\n",
       "    </tr>\n",
       "    <tr>\n",
       "      <th>8</th>\n",
       "      <td>entropy</td>\n",
       "      <td>3</td>\n",
       "      <td>0.518086</td>\n",
       "    </tr>\n",
       "  </tbody>\n",
       "</table>\n",
       "</div>"
      ],
      "text/plain": [
       "   criterion  max_depth         0\n",
       "7       gini         10  0.780746\n",
       "6       gini          9  0.780189\n",
       "5       gini          8  0.774624\n",
       "4       gini          7  0.760156\n",
       "3       gini          6  0.737896\n",
       "2       gini          5  0.661658\n",
       "1       gini          4  0.562604\n",
       "0       gini          3  0.441291\n",
       "14   entropy          9  0.774068\n",
       "15   entropy         10  0.771285\n",
       "13   entropy          8  0.769060\n",
       "12   entropy          7  0.762382\n",
       "11   entropy          6  0.752922\n",
       "10   entropy          5  0.718976\n",
       "9    entropy          4  0.658876\n",
       "8    entropy          3  0.518086"
      ]
     },
     "execution_count": 1108,
     "metadata": {},
     "output_type": "execute_result"
    }
   ],
   "source": [
    "indexes.sort_values(by=['criterion', 0], ascending=[False, False])"
   ]
  },
  {
   "cell_type": "markdown",
   "metadata": {},
   "source": [
    "## just checking myself"
   ]
  },
  {
   "cell_type": "markdown",
   "metadata": {},
   "source": [
    "**1. Choose all correct statements:**\n",
    "1. Optimal value of the `max_depth` parameter is on the interval [4, 9] for both criteria.\n",
    "2. Created plots have no intersection on the interval [3, 10]\n",
    "3. **Created plots intersect each other only once on the interval [3, 10].**\n",
    "4. **The best quality for `max_depth` on the interval [3, 10] is reached using `gini` criterion .**\n",
    "5. **Accuracy is strictly increasing at least for one of the criteria, when `max_depth` is also increasing on the interval [3, 10]**"
   ]
  },
  {
   "cell_type": "markdown",
   "metadata": {},
   "source": [
    "**2. What are the optimal values for max_depth and criterion parameters?**\n",
    "1. max_depth = 7, criterion = 'gini';\n",
    "2. max_depth = 7, criterion = 'entropy';\n",
    "3. max_depth = 10, criterion = 'entropy';\n",
    "4. **max_depth = 10, criterion = 'gini';**\n",
    "5. max_depth = 9, criterion = 'entropy';\n",
    "6. max_depth = 9, criterion = 'gini';"
   ]
  },
  {
   "cell_type": "markdown",
   "metadata": {},
   "source": [
    "Train decision tree on `(X_train, y_train)` using the optimal values of `max_depth` and `criterion`. Compute class probabilities for `X_test`."
   ]
  },
  {
   "cell_type": "code",
   "execution_count": 1109,
   "metadata": {
    "ExecuteTime": {
     "end_time": "2019-03-13T11:48:08.781865Z",
     "start_time": "2019-03-13T11:48:07.470850Z"
    }
   },
   "outputs": [
    {
     "name": "stdout",
     "output_type": "stream",
     "text": [
      "<function gini at 0x1a32e10400>\n"
     ]
    },
    {
     "data": {
      "text/plain": [
       "DecisionTree(criterion=<function gini at 0x1a32e10400>, debug=None,\n",
       "       max_depth=10, min_samples_split=2)"
      ]
     },
     "execution_count": 1109,
     "metadata": {},
     "output_type": "execute_result"
    }
   ],
   "source": [
    "dt = DecisionTree(max_depth = 10, criterion='gini')\n",
    "dt.fit(X_train, y_train)"
   ]
  },
  {
   "cell_type": "markdown",
   "metadata": {},
   "source": [
    "Using the given matrix, compute the mean class probabilities for all instances in `X_test`."
   ]
  },
  {
   "cell_type": "code",
   "execution_count": 1110,
   "metadata": {
    "ExecuteTime": {
     "end_time": "2019-03-13T11:48:10.187060Z",
     "start_time": "2019-03-13T11:48:10.174588Z"
    }
   },
   "outputs": [],
   "source": [
    "probs = dt.predict_proba(X_test)"
   ]
  },
  {
   "cell_type": "code",
   "execution_count": 1111,
   "metadata": {
    "ExecuteTime": {
     "end_time": "2019-03-13T11:48:10.898795Z",
     "start_time": "2019-03-13T11:48:10.893375Z"
    }
   },
   "outputs": [
    {
     "data": {
      "text/plain": [
       "0.12691798941798949"
      ]
     },
     "execution_count": 1111,
     "metadata": {},
     "output_type": "execute_result"
    }
   ],
   "source": [
    "probs.mean(axis=0).max()"
   ]
  },
  {
   "cell_type": "markdown",
   "metadata": {},
   "source": [
    "**3. What is the maximum probability in a resulted vector?**\n",
    "1. **0.127**\n",
    "2. 0.118\n",
    "3. 1.0\n",
    "4. 0.09"
   ]
  },
  {
   "cell_type": "markdown",
   "metadata": {},
   "source": [
    "## Regression"
   ]
  },
  {
   "cell_type": "markdown",
   "metadata": {},
   "source": [
    "Download the dataset `boston` using the method `load_boston`. Split the data into train and test with the `train_test_split` method, use parameter values `test_size=0.2`, `random_state=17`. Try to train shallow regression decision trees and make sure that `variance` and `mad_median` criteria return different results."
   ]
  },
  {
   "cell_type": "code",
   "execution_count": 1112,
   "metadata": {
    "ExecuteTime": {
     "end_time": "2019-03-13T11:48:21.352696Z",
     "start_time": "2019-03-13T11:48:21.333693Z"
    }
   },
   "outputs": [],
   "source": [
    "X, y = load_boston()[\"data\"], load_boston()[\"target\"]\n",
    "\n",
    "X_train,X_test, y_train, y_test =   train_test_split(X, y, test_size=0.2, random_state=17)"
   ]
  },
  {
   "cell_type": "markdown",
   "metadata": {},
   "source": [
    "Using 5-folds cross-validation (`GridSearchCV`) pick up the optimal values of the `max_depth` and `criterion` parameters. For the parameter `max_depth` use `range(2, 9)`, for `criterion` use {'variance', 'mad_median'}. Quality measure is `scoring`='neg_mean_squared_error'."
   ]
  },
  {
   "cell_type": "code",
   "execution_count": 1113,
   "metadata": {
    "ExecuteTime": {
     "end_time": "2019-03-13T11:48:53.637770Z",
     "start_time": "2019-03-13T11:48:23.115253Z"
    }
   },
   "outputs": [
    {
     "name": "stdout",
     "output_type": "stream",
     "text": [
      "Fitting 3 folds for each of 14 candidates, totalling 42 fits\n",
      "[CV] criterion=variance, max_depth=2 .................................\n",
      "<function variance at 0x1a32e10488>\n",
      "[CV]  criterion=variance, max_depth=2, score=-19.411845387263018, total=   0.2s\n",
      "[CV] criterion=variance, max_depth=2 .................................\n",
      "<function variance at 0x1a32e10488>\n"
     ]
    },
    {
     "name": "stderr",
     "output_type": "stream",
     "text": [
      "[Parallel(n_jobs=1)]: Using backend SequentialBackend with 1 concurrent workers.\n",
      "[Parallel(n_jobs=1)]: Done   1 out of   1 | elapsed:    0.2s remaining:    0.0s\n"
     ]
    },
    {
     "name": "stdout",
     "output_type": "stream",
     "text": [
      "[CV]  criterion=variance, max_depth=2, score=-57.07363960849807, total=   0.2s\n",
      "[CV] criterion=variance, max_depth=2 .................................\n",
      "<function variance at 0x1a32e10488>\n",
      "[CV]  criterion=variance, max_depth=2, score=-65.48714320670842, total=   0.2s\n",
      "[CV] criterion=variance, max_depth=3 .................................\n",
      "<function variance at 0x1a32e10488>\n"
     ]
    },
    {
     "name": "stderr",
     "output_type": "stream",
     "text": [
      "[Parallel(n_jobs=1)]: Done   2 out of   2 | elapsed:    0.4s remaining:    0.0s\n",
      "[Parallel(n_jobs=1)]: Done   3 out of   3 | elapsed:    0.5s remaining:    0.0s\n"
     ]
    },
    {
     "name": "stdout",
     "output_type": "stream",
     "text": [
      "[CV]  criterion=variance, max_depth=3, score=-27.517786810821914, total=   0.3s\n",
      "[CV] criterion=variance, max_depth=3 .................................\n",
      "<function variance at 0x1a32e10488>\n"
     ]
    },
    {
     "name": "stderr",
     "output_type": "stream",
     "text": [
      "[Parallel(n_jobs=1)]: Done   4 out of   4 | elapsed:    0.8s remaining:    0.0s\n"
     ]
    },
    {
     "name": "stdout",
     "output_type": "stream",
     "text": [
      "[CV]  criterion=variance, max_depth=3, score=-57.40674922673394, total=   0.3s\n",
      "[CV] criterion=variance, max_depth=3 .................................\n",
      "<function variance at 0x1a32e10488>\n"
     ]
    },
    {
     "name": "stderr",
     "output_type": "stream",
     "text": [
      "[Parallel(n_jobs=1)]: Done   5 out of   5 | elapsed:    1.1s remaining:    0.0s\n"
     ]
    },
    {
     "name": "stdout",
     "output_type": "stream",
     "text": [
      "[CV]  criterion=variance, max_depth=3, score=-50.90654654279648, total=   0.3s\n",
      "[CV] criterion=variance, max_depth=4 .................................\n",
      "<function variance at 0x1a32e10488>\n"
     ]
    },
    {
     "name": "stderr",
     "output_type": "stream",
     "text": [
      "[Parallel(n_jobs=1)]: Done   6 out of   6 | elapsed:    1.4s remaining:    0.0s\n"
     ]
    },
    {
     "name": "stdout",
     "output_type": "stream",
     "text": [
      "[CV]  criterion=variance, max_depth=4, score=-22.303775576713317, total=   0.4s\n",
      "[CV] criterion=variance, max_depth=4 .................................\n",
      "<function variance at 0x1a32e10488>\n"
     ]
    },
    {
     "name": "stderr",
     "output_type": "stream",
     "text": [
      "[Parallel(n_jobs=1)]: Done   7 out of   7 | elapsed:    1.8s remaining:    0.0s\n"
     ]
    },
    {
     "name": "stdout",
     "output_type": "stream",
     "text": [
      "[CV]  criterion=variance, max_depth=4, score=-44.67772091033651, total=   0.3s\n",
      "[CV] criterion=variance, max_depth=4 .................................\n",
      "<function variance at 0x1a32e10488>\n"
     ]
    },
    {
     "name": "stderr",
     "output_type": "stream",
     "text": [
      "[Parallel(n_jobs=1)]: Done   8 out of   8 | elapsed:    2.1s remaining:    0.0s\n"
     ]
    },
    {
     "name": "stdout",
     "output_type": "stream",
     "text": [
      "[CV]  criterion=variance, max_depth=4, score=-44.185660501039635, total=   0.4s\n",
      "[CV] criterion=variance, max_depth=5 .................................\n",
      "<function variance at 0x1a32e10488>\n"
     ]
    },
    {
     "name": "stderr",
     "output_type": "stream",
     "text": [
      "[Parallel(n_jobs=1)]: Done   9 out of   9 | elapsed:    2.5s remaining:    0.0s\n"
     ]
    },
    {
     "name": "stdout",
     "output_type": "stream",
     "text": [
      "[CV]  criterion=variance, max_depth=5, score=-25.70312502577595, total=   0.4s\n",
      "[CV] criterion=variance, max_depth=5 .................................\n",
      "<function variance at 0x1a32e10488>\n",
      "[CV]  criterion=variance, max_depth=5, score=-52.099560173928616, total=   0.4s\n",
      "[CV] criterion=variance, max_depth=5 .................................\n",
      "<function variance at 0x1a32e10488>\n",
      "[CV]  criterion=variance, max_depth=5, score=-43.57824495647042, total=   0.5s\n",
      "[CV] criterion=variance, max_depth=6 .................................\n",
      "<function variance at 0x1a32e10488>\n",
      "[CV]  criterion=variance, max_depth=6, score=-28.7376059410822, total=   0.5s\n",
      "[CV] criterion=variance, max_depth=6 .................................\n",
      "<function variance at 0x1a32e10488>\n",
      "[CV]  criterion=variance, max_depth=6, score=-51.13029221045181, total=   0.5s\n",
      "[CV] criterion=variance, max_depth=6 .................................\n",
      "<function variance at 0x1a32e10488>\n",
      "[CV]  criterion=variance, max_depth=6, score=-43.72189933008181, total=   0.6s\n",
      "[CV] criterion=variance, max_depth=7 .................................\n",
      "<function variance at 0x1a32e10488>\n",
      "[CV]  criterion=variance, max_depth=7, score=-28.99958788805566, total=   0.6s\n",
      "[CV] criterion=variance, max_depth=7 .................................\n",
      "<function variance at 0x1a32e10488>\n",
      "[CV]  criterion=variance, max_depth=7, score=-51.426064638725904, total=   0.5s\n",
      "[CV] criterion=variance, max_depth=7 .................................\n",
      "<function variance at 0x1a32e10488>\n",
      "[CV]  criterion=variance, max_depth=7, score=-44.891684041019204, total=   0.6s\n",
      "[CV] criterion=variance, max_depth=8 .................................\n",
      "<function variance at 0x1a32e10488>\n",
      "[CV]  criterion=variance, max_depth=8, score=-30.50350063753278, total=   0.6s\n",
      "[CV] criterion=variance, max_depth=8 .................................\n",
      "<function variance at 0x1a32e10488>\n",
      "[CV]  criterion=variance, max_depth=8, score=-51.33674910189499, total=   0.5s\n",
      "[CV] criterion=variance, max_depth=8 .................................\n",
      "<function variance at 0x1a32e10488>\n",
      "[CV]  criterion=variance, max_depth=8, score=-44.90666076581767, total=   0.7s\n",
      "[CV] criterion=mad_median, max_depth=2 ...............................\n",
      "<function mad_median at 0x1a335e00d0>\n",
      "[CV]  criterion=mad_median, max_depth=2, score=-24.957301581113573, total=   0.4s\n",
      "[CV] criterion=mad_median, max_depth=2 ...............................\n",
      "<function mad_median at 0x1a335e00d0>\n",
      "[CV]  criterion=mad_median, max_depth=2, score=-76.4269871993983, total=   0.4s\n",
      "[CV] criterion=mad_median, max_depth=2 ...............................\n",
      "<function mad_median at 0x1a335e00d0>\n",
      "[CV]  criterion=mad_median, max_depth=2, score=-75.05950050916697, total=   0.4s\n",
      "[CV] criterion=mad_median, max_depth=3 ...............................\n",
      "<function mad_median at 0x1a335e00d0>\n",
      "[CV]  criterion=mad_median, max_depth=3, score=-14.583913109626453, total=   0.6s\n",
      "[CV] criterion=mad_median, max_depth=3 ...............................\n",
      "<function mad_median at 0x1a335e00d0>\n",
      "[CV]  criterion=mad_median, max_depth=3, score=-61.47983965612736, total=   0.6s\n",
      "[CV] criterion=mad_median, max_depth=3 ...............................\n",
      "<function mad_median at 0x1a335e00d0>\n",
      "[CV]  criterion=mad_median, max_depth=3, score=-61.74236252298533, total=   0.6s\n",
      "[CV] criterion=mad_median, max_depth=4 ...............................\n",
      "<function mad_median at 0x1a335e00d0>\n",
      "[CV]  criterion=mad_median, max_depth=4, score=-13.465741453156948, total=   0.9s\n",
      "[CV] criterion=mad_median, max_depth=4 ...............................\n",
      "<function mad_median at 0x1a335e00d0>\n",
      "[CV]  criterion=mad_median, max_depth=4, score=-58.927276656615696, total=   0.9s\n",
      "[CV] criterion=mad_median, max_depth=4 ...............................\n",
      "<function mad_median at 0x1a335e00d0>\n",
      "[CV]  criterion=mad_median, max_depth=4, score=-53.680743519768555, total=   0.9s\n",
      "[CV] criterion=mad_median, max_depth=5 ...............................\n",
      "<function mad_median at 0x1a335e00d0>\n",
      "[CV]  criterion=mad_median, max_depth=5, score=-18.266708539187277, total=   1.0s\n",
      "[CV] criterion=mad_median, max_depth=5 ...............................\n",
      "<function mad_median at 0x1a335e00d0>\n",
      "[CV]  criterion=mad_median, max_depth=5, score=-44.76171361272708, total=   1.0s\n",
      "[CV] criterion=mad_median, max_depth=5 ...............................\n",
      "<function mad_median at 0x1a335e00d0>\n",
      "[CV]  criterion=mad_median, max_depth=5, score=-60.48109710449054, total=   1.2s\n",
      "[CV] criterion=mad_median, max_depth=6 ...............................\n",
      "<function mad_median at 0x1a335e00d0>\n",
      "[CV]  criterion=mad_median, max_depth=6, score=-16.836195230415836, total=   1.2s\n",
      "[CV] criterion=mad_median, max_depth=6 ...............................\n",
      "<function mad_median at 0x1a335e00d0>\n",
      "[CV]  criterion=mad_median, max_depth=6, score=-44.90306968668553, total=   1.2s\n",
      "[CV] criterion=mad_median, max_depth=6 ...............................\n",
      "<function mad_median at 0x1a335e00d0>\n",
      "[CV]  criterion=mad_median, max_depth=6, score=-59.01880904016231, total=   1.3s\n",
      "[CV] criterion=mad_median, max_depth=7 ...............................\n",
      "<function mad_median at 0x1a335e00d0>\n",
      "[CV]  criterion=mad_median, max_depth=7, score=-18.602884542454326, total=   1.4s\n",
      "[CV] criterion=mad_median, max_depth=7 ...............................\n",
      "<function mad_median at 0x1a335e00d0>\n",
      "[CV]  criterion=mad_median, max_depth=7, score=-44.044967382781216, total=   1.3s\n",
      "[CV] criterion=mad_median, max_depth=7 ...............................\n",
      "<function mad_median at 0x1a335e00d0>\n",
      "[CV]  criterion=mad_median, max_depth=7, score=-58.95661856406888, total=   1.3s\n",
      "[CV] criterion=mad_median, max_depth=8 ...............................\n",
      "<function mad_median at 0x1a335e00d0>\n",
      "[CV]  criterion=mad_median, max_depth=8, score=-19.97515885594364, total=   1.4s\n",
      "[CV] criterion=mad_median, max_depth=8 ...............................\n",
      "<function mad_median at 0x1a335e00d0>\n",
      "[CV]  criterion=mad_median, max_depth=8, score=-44.499647244836375, total=   1.5s\n",
      "[CV] criterion=mad_median, max_depth=8 ...............................\n",
      "<function mad_median at 0x1a335e00d0>\n",
      "[CV]  criterion=mad_median, max_depth=8, score=-59.50976718796509, total=   1.4s\n",
      "<function variance at 0x1a32e10488>\n"
     ]
    },
    {
     "name": "stderr",
     "output_type": "stream",
     "text": [
      "[Parallel(n_jobs=1)]: Done  42 out of  42 | elapsed:   30.0s finished\n",
      "/anaconda3/lib/python3.7/site-packages/sklearn/model_selection/_search.py:841: DeprecationWarning: The default of the `iid` parameter will change from True to False in version 0.22 and will be removed in 0.24. This will change numeric results when test-set sizes are unequal.\n",
      "  DeprecationWarning)\n"
     ]
    },
    {
     "data": {
      "text/plain": [
       "GridSearchCV(cv='warn', error_score='raise-deprecating',\n",
       "       estimator=DecisionTree(criterion='gini', debug=None, max_depth=inf, min_samples_split=2),\n",
       "       fit_params=None, iid='warn', n_jobs=None,\n",
       "       param_grid={'max_depth': range(2, 9), 'criterion': ['variance', 'mad_median']},\n",
       "       pre_dispatch='2*n_jobs', refit=True, return_train_score='warn',\n",
       "       scoring='neg_mean_squared_error', verbose=10)"
      ]
     },
     "execution_count": 1113,
     "metadata": {},
     "output_type": "execute_result"
    }
   ],
   "source": [
    "param_grid = {\n",
    "    \"max_depth\" : range(2, 9), \n",
    "    \"criterion\" : ['variance', 'mad_median']\n",
    "}\n",
    "gridSearch = GridSearchCV(DecisionTree(),param_grid, scoring='neg_mean_squared_error', verbose=10)\n",
    "gridSearch.fit(X, y)"
   ]
  },
  {
   "cell_type": "code",
   "execution_count": 1114,
   "metadata": {
    "ExecuteTime": {
     "end_time": "2019-03-13T11:49:18.903278Z",
     "start_time": "2019-03-13T11:49:18.898129Z"
    }
   },
   "outputs": [
    {
     "data": {
      "text/plain": [
       "({'criterion': 'variance', 'max_depth': 4}, -37.04162820254166)"
      ]
     },
     "execution_count": 1114,
     "metadata": {},
     "output_type": "execute_result"
    }
   ],
   "source": [
    "gridSearch.best_params_, gridSearch.best_score_"
   ]
  },
  {
   "cell_type": "code",
   "execution_count": 1115,
   "metadata": {
    "ExecuteTime": {
     "end_time": "2019-03-13T11:49:22.902625Z",
     "start_time": "2019-03-13T11:49:22.448431Z"
    }
   },
   "outputs": [
    {
     "data": {
      "text/plain": [
       "<matplotlib.legend.Legend at 0x1a30833518>"
      ]
     },
     "execution_count": 1115,
     "metadata": {},
     "output_type": "execute_result"
    },
    {
     "data": {
      "image/png": "[encoded data removed]",
      "text/plain": [
       "<Figure size 1296x504 with 1 Axes>"
      ]
     },
     "metadata": {},
     "output_type": "display_data"
    }
   ],
   "source": [
    "indexes = pd.DataFrame(gridSearch.cv_results_[\"params\"])\n",
    "indexes = pd.concat([indexes, pd.Series(gridSearch.cv_results_[\"mean_test_score\"])], axis=1)\n",
    "\n",
    "plt.figure(figsize=(18,7))\n",
    "\n",
    "for criterion in ('variance', 'mad_median'):\n",
    "    df1 = indexes[indexes.criterion==criterion]\n",
    "    ax = sns.lineplot(df1['max_depth'], df1[0], label='acc_test {0}'.format(criterion), marker='+')        \n",
    "plt.legend()"
   ]
  },
  {
   "cell_type": "markdown",
   "metadata": {},
   "source": [
    "**4. Choose all correct statements:**\n",
    "1. Created plots have no intersection on the interval [2, 8].\n",
    "2. **Created plots intersect each other only once on the interval [2, 8].**\n",
    "3. Optimal value of the `max_depth` for each of the criteria is on the border of the interval [2, 8].\n",
    "4. The best quality at `max_depth` on the interval [2, 8] is reached using `mad_median` criterion."
   ]
  },
  {
   "cell_type": "markdown",
   "metadata": {},
   "source": [
    "**5. What are the optimal values for `max_depth` and `criterion` parameters?**\n",
    "1. max_depth = 9, criterion = 'variance';\n",
    "2. max_depth = 5, criterion = 'mad_median';\n",
    "3. **max_depth = 4, criterion = 'variance';**\n",
    "4. max_depth = 2, criterion = 'mad_median';\n",
    "5. max_depth = 4, criterion = 'mad_median';\n",
    "6. max_depth = 5, criterion = 'variance'"
   ]
  }
 ],
 "metadata": {
  "kernelspec": {
   "display_name": "Python 3",
   "language": "python",
   "name": "python3"
  },
  "language_info": {
   "codemirror_mode": {
    "name": "ipython",
    "version": 3
   },
   "file_extension": ".py",
   "mimetype": "text/x-python",
   "name": "python",
   "nbconvert_exporter": "python",
   "pygments_lexer": "ipython3",
   "version": "3.7.1"
  },
  "name": "lesson4_part2_Decision_trees.ipynb",
  "toc": {
   "base_numbering": 1,
   "nav_menu": {},
   "number_sections": true,
   "sideBar": true,
   "skip_h1_title": false,
   "title_cell": "Table of Contents",
   "title_sidebar": "Contents",
   "toc_cell": false,
   "toc_position": {},
   "toc_section_display": true,
   "toc_window_display": false
  }
 },
 "nbformat": 4,
 "nbformat_minor": 1
}
